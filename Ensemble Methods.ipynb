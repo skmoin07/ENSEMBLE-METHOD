{
 "cells": [
  {
   "cell_type": "markdown",
   "id": "9f0669b1",
   "metadata": {},
   "source": [
    "# BAGGING"
   ]
  },
  {
   "cell_type": "code",
   "execution_count": 4,
   "id": "d5ffc229",
   "metadata": {},
   "outputs": [],
   "source": [
    "from pandas import read_csv\n",
    "from sklearn.model_selection import cross_val_score\n",
    "from sklearn.tree import DecisionTreeClassifier\n",
    "from sklearn.ensemble import BaggingClassifier\n",
    "from sklearn.model_selection import KFold"
   ]
  },
  {
   "cell_type": "code",
   "execution_count": 5,
   "id": "614e5ee4",
   "metadata": {},
   "outputs": [],
   "source": [
    "filename='pima.csv'\n",
    "names=['preg','plas','pres','skin','test','mass','pedi','age','class']\n",
    "dataframe=read_csv(filename,names=names)\n",
    "array=dataframe.values\n",
    "X=array[:,0:8]\n",
    "Y=array[:,8]\n",
    "num_folds=10\n",
    "seed=7"
   ]
  },
  {
   "cell_type": "code",
   "execution_count": 7,
   "id": "9d7697d3",
   "metadata": {},
   "outputs": [],
   "source": [
    "Kfold=KFold(n_splits=10)"
   ]
  },
  {
   "cell_type": "code",
   "execution_count": 8,
   "id": "a51695df",
   "metadata": {},
   "outputs": [],
   "source": [
    "cart=DecisionTreeClassifier()\n",
    "num_trees=100\n",
    "model=BaggingClassifier(base_estimator=cart,n_estimators=num_trees)"
   ]
  },
  {
   "cell_type": "code",
   "execution_count": 10,
   "id": "04bad661",
   "metadata": {},
   "outputs": [],
   "source": [
    "=cross_val_score(model,X,Y,cv=Kfold)results"
   ]
  },
  {
   "cell_type": "code",
   "execution_count": 12,
   "id": "c46b1694",
   "metadata": {},
   "outputs": [
    {
     "name": "stdout",
     "output_type": "stream",
     "text": [
      "0.7694976076555023\n"
     ]
    }
   ],
   "source": [
    "print(results.mean())"
   ]
  },
  {
   "cell_type": "markdown",
   "id": "f91e0b18",
   "metadata": {},
   "source": [
    "# Random Forest ex.bagging"
   ]
  },
  {
   "cell_type": "code",
   "execution_count": 13,
   "id": "75d2cdb4",
   "metadata": {},
   "outputs": [],
   "source": [
    "from sklearn.ensemble import RandomForestClassifier"
   ]
  },
  {
   "cell_type": "code",
   "execution_count": 14,
   "id": "62ffbd5e",
   "metadata": {},
   "outputs": [],
   "source": [
    "Kfold=KFold(n_splits=10)\n",
    "num_trees=100\n",
    "max_features=3\n",
    "model= RandomForestClassifier(n_estimators=num_trees,max_features=max_features)"
   ]
  },
  {
   "cell_type": "code",
   "execution_count": 15,
   "id": "f70a4f18",
   "metadata": {},
   "outputs": [],
   "source": [
    "results=cross_val_score(model,X,Y,cv=Kfold)"
   ]
  },
  {
   "cell_type": "code",
   "execution_count": 16,
   "id": "507b304a",
   "metadata": {},
   "outputs": [
    {
     "name": "stdout",
     "output_type": "stream",
     "text": [
      "0.7655844155844156\n"
     ]
    }
   ],
   "source": [
    "print(results.mean())"
   ]
  },
  {
   "cell_type": "markdown",
   "id": "ea4cc6ef",
   "metadata": {},
   "source": [
    "# Boosting"
   ]
  },
  {
   "cell_type": "markdown",
   "id": "0acf057b",
   "metadata": {},
   "source": [
    "# # Adaboost"
   ]
  },
  {
   "cell_type": "code",
   "execution_count": 17,
   "id": "aaed0897",
   "metadata": {},
   "outputs": [],
   "source": [
    "from sklearn.ensemble import AdaBoostClassifier"
   ]
  },
  {
   "cell_type": "code",
   "execution_count": 18,
   "id": "af807c6d",
   "metadata": {},
   "outputs": [],
   "source": [
    "Kfold=KFold(n_splits=10)\n",
    "num_trees=10\n",
    "model= AdaBoostClassifier(n_estimators=num_trees)"
   ]
  },
  {
   "cell_type": "code",
   "execution_count": 19,
   "id": "a5f7f02f",
   "metadata": {},
   "outputs": [],
   "source": [
    "result=cross_val_score(model,X,Y,cv=Kfold)"
   ]
  },
  {
   "cell_type": "code",
   "execution_count": 20,
   "id": "d9b3ad2a",
   "metadata": {},
   "outputs": [
    {
     "name": "stdout",
     "output_type": "stream",
     "text": [
      "0.7525974025974026\n"
     ]
    }
   ],
   "source": [
    "print(result.mean())"
   ]
  },
  {
   "cell_type": "markdown",
   "id": "32d16328",
   "metadata": {},
   "source": [
    "# Stacking"
   ]
  },
  {
   "cell_type": "code",
   "execution_count": 21,
   "id": "76994134",
   "metadata": {},
   "outputs": [],
   "source": [
    "from sklearn.linear_model import LogisticRegression\n",
    "from sklearn.svm import SVC\n",
    "from sklearn.ensemble import VotingClassifier"
   ]
  },
  {
   "cell_type": "code",
   "execution_count": 22,
   "id": "5e5e0918",
   "metadata": {},
   "outputs": [],
   "source": [
    "kfold=KFold(n_splits=10)"
   ]
  },
  {
   "cell_type": "code",
   "execution_count": 24,
   "id": "8e59a929",
   "metadata": {},
   "outputs": [],
   "source": [
    "estimators=[]\n",
    "model1=LogisticRegression(max_iter=500)\n",
    "estimators.append(('logistic',model1))\n",
    "model2=DecisionTreeClassifier()\n",
    "estimators.append(('cart',model2))\n",
    "model3=SVC()\n",
    "estimators.append(('svm',model3))"
   ]
  },
  {
   "cell_type": "code",
   "execution_count": 25,
   "id": "3b72743d",
   "metadata": {},
   "outputs": [],
   "source": [
    "#create the ensemble model\n",
    "ensemble=VotingClassifier(estimators)\n"
   ]
  },
  {
   "cell_type": "code",
   "execution_count": 26,
   "id": "7f4270d3",
   "metadata": {},
   "outputs": [],
   "source": [
    "result=cross_val_score(model,X,Y,cv=Kfold)"
   ]
  },
  {
   "cell_type": "code",
   "execution_count": 27,
   "id": "b79b9dfe",
   "metadata": {},
   "outputs": [
    {
     "name": "stdout",
     "output_type": "stream",
     "text": [
      "0.7525974025974026\n"
     ]
    }
   ],
   "source": [
    "print(result.mean())"
   ]
  },
  {
   "cell_type": "code",
   "execution_count": null,
   "id": "8745a05e",
   "metadata": {},
   "outputs": [],
   "source": []
  }
 ],
 "metadata": {
  "kernelspec": {
   "display_name": "Python 3",
   "language": "python",
   "name": "python3"
  },
  "language_info": {
   "codemirror_mode": {
    "name": "ipython",
    "version": 3
   },
   "file_extension": ".py",
   "mimetype": "text/x-python",
   "name": "python",
   "nbconvert_exporter": "python",
   "pygments_lexer": "ipython3",
   "version": "3.8.8"
  }
 },
 "nbformat": 4,
 "nbformat_minor": 5
}
